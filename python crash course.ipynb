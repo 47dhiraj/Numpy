{
 "cells": [
  {
   "cell_type": "code",
   "execution_count": null,
   "metadata": {},
   "outputs": [],
   "source": [
    "import numpy as np"
   ]
  },
  {
   "cell_type": "code",
   "execution_count": null,
   "metadata": {},
   "outputs": [],
   "source": [
    "my_matrix = [[1,2,3],[4,5,6],[7,8,9]]"
   ]
  },
  {
   "cell_type": "code",
   "execution_count": null,
   "metadata": {},
   "outputs": [],
   "source": [
    "np.array(my_matrix)"
   ]
  },
  {
   "cell_type": "code",
   "execution_count": null,
   "metadata": {},
   "outputs": [],
   "source": [
    "print(np.array(my_matrix))"
   ]
  },
  {
   "cell_type": "code",
   "execution_count": null,
   "metadata": {},
   "outputs": [],
   "source": [
    "print(np.arange(0,11,2))"
   ]
  },
  {
   "cell_type": "code",
   "execution_count": null,
   "metadata": {},
   "outputs": [],
   "source": [
    "print(np.zeros(3))"
   ]
  },
  {
   "cell_type": "code",
   "execution_count": null,
   "metadata": {},
   "outputs": [],
   "source": [
    "print(np.zeros((2,3)))"
   ]
  },
  {
   "cell_type": "code",
   "execution_count": null,
   "metadata": {},
   "outputs": [],
   "source": [
    "print(np.linspace(0,10,5))"
   ]
  },
  {
   "cell_type": "code",
   "execution_count": null,
   "metadata": {},
   "outputs": [],
   "source": [
    "print(np.linspace(0,5,10))"
   ]
  },
  {
   "cell_type": "code",
   "execution_count": null,
   "metadata": {},
   "outputs": [],
   "source": [
    "np.eye(4)"
   ]
  },
  {
   "cell_type": "code",
   "execution_count": null,
   "metadata": {},
   "outputs": [],
   "source": [
    "print(np.random.rand(2,2))"
   ]
  },
  {
   "cell_type": "code",
   "execution_count": null,
   "metadata": {},
   "outputs": [],
   "source": [
    "print(np.random.randn(2,2))"
   ]
  },
  {
   "cell_type": "code",
   "execution_count": null,
   "metadata": {},
   "outputs": [],
   "source": [
    "print(np.random.randint(1,50,5))"
   ]
  },
  {
   "cell_type": "code",
   "execution_count": null,
   "metadata": {},
   "outputs": [],
   "source": [
    "arr = np.arange(25)"
   ]
  },
  {
   "cell_type": "code",
   "execution_count": null,
   "metadata": {},
   "outputs": [],
   "source": [
    "print(arr)"
   ]
  },
  {
   "cell_type": "code",
   "execution_count": null,
   "metadata": {},
   "outputs": [],
   "source": [
    "print(arr.reshape(5,5))"
   ]
  },
  {
   "cell_type": "code",
   "execution_count": null,
   "metadata": {},
   "outputs": [],
   "source": [
    "print(arr.dtype)"
   ]
  },
  {
   "cell_type": "code",
   "execution_count": null,
   "metadata": {},
   "outputs": [],
   "source": [
    "arr_2d = np.array(([5,10,15],[20,25,30],[35,40,45]))"
   ]
  },
  {
   "cell_type": "code",
   "execution_count": null,
   "metadata": {},
   "outputs": [],
   "source": [
    "arr_2d"
   ]
  },
  {
   "cell_type": "code",
   "execution_count": null,
   "metadata": {},
   "outputs": [],
   "source": [
    "arr_2d[:2,1:]"
   ]
  },
  {
   "cell_type": "code",
   "execution_count": null,
   "metadata": {},
   "outputs": [],
   "source": [
    "sum(arr_2d)"
   ]
  },
  {
   "cell_type": "code",
   "execution_count": null,
   "metadata": {},
   "outputs": [],
   "source": [
    "arr_2d.sum()"
   ]
  },
  {
   "cell_type": "code",
   "execution_count": null,
   "metadata": {},
   "outputs": [],
   "source": [
    "arr =np.array([[1, 2, 3],\n",
    "               [4, 5, 6]]) "
   ]
  },
  {
   "cell_type": "code",
   "execution_count": null,
   "metadata": {},
   "outputs": [],
   "source": [
    "arr.sum(axis=0)"
   ]
  },
  {
   "cell_type": "code",
   "execution_count": null,
   "metadata": {},
   "outputs": [],
   "source": [
    "arr.sum(axis=1)"
   ]
  },
  {
   "cell_type": "code",
   "execution_count": null,
   "metadata": {},
   "outputs": [],
   "source": [
    "a =np.array([[1, 2, 3],\n",
    "               [4, 5, 6]]) "
   ]
  },
  {
   "cell_type": "code",
   "execution_count": null,
   "metadata": {},
   "outputs": [],
   "source": [
    "b =np.array([[1, 2],\n",
    "              [3, 4],\n",
    "              [5, 6]]) "
   ]
  },
  {
   "cell_type": "code",
   "execution_count": null,
   "metadata": {},
   "outputs": [],
   "source": [
    "a.dot(b)"
   ]
  },
  {
   "cell_type": "code",
   "execution_count": null,
   "metadata": {
    "scrolled": true
   },
   "outputs": [],
   "source": [
    "a.transpose()"
   ]
  },
  {
   "cell_type": "code",
   "execution_count": null,
   "metadata": {},
   "outputs": [],
   "source": [
    "import numpy as np"
   ]
  },
  {
   "cell_type": "code",
   "execution_count": null,
   "metadata": {},
   "outputs": [],
   "source": [
    "dir(np)"
   ]
  },
  {
   "cell_type": "code",
   "execution_count": null,
   "metadata": {},
   "outputs": [],
   "source": [
    "len(dir(np))"
   ]
  },
  {
   "cell_type": "code",
   "execution_count": null,
   "metadata": {},
   "outputs": [],
   "source": [
    "a =np.array([[1, 2, 3],\n",
    "               [4, 5, 6]]) "
   ]
  },
  {
   "cell_type": "code",
   "execution_count": null,
   "metadata": {},
   "outputs": [],
   "source": [
    "b =np.array([[1, 2, 3],\n",
    "               [4, 5, 6]]) "
   ]
  },
  {
   "cell_type": "code",
   "execution_count": null,
   "metadata": {},
   "outputs": [],
   "source": [
    "np.cross(a,b)"
   ]
  },
  {
   "cell_type": "code",
   "execution_count": null,
   "metadata": {},
   "outputs": [],
   "source": [
    "a =np.array([[7, 2, 9],\n",
    "               [5, 1, 3]]) "
   ]
  },
  {
   "cell_type": "code",
   "execution_count": null,
   "metadata": {},
   "outputs": [],
   "source": [
    "np.sort(a)"
   ]
  },
  {
   "cell_type": "code",
   "execution_count": null,
   "metadata": {},
   "outputs": [],
   "source": [
    "a"
   ]
  },
  {
   "cell_type": "code",
   "execution_count": null,
   "metadata": {},
   "outputs": [],
   "source": [
    "np.sort(a, kind='mergesort')"
   ]
  },
  {
   "cell_type": "code",
   "execution_count": null,
   "metadata": {},
   "outputs": [],
   "source": [
    "%time np.sort(a, kind='mergesort')"
   ]
  },
  {
   "cell_type": "code",
   "execution_count": null,
   "metadata": {},
   "outputs": [],
   "source": [
    "%%time\n",
    "np.sort(a, kind='mergesort')"
   ]
  },
  {
   "cell_type": "markdown",
   "metadata": {},
   "source": [
    "# Numpy | Iterating Over Array"
   ]
  },
  {
   "cell_type": "code",
   "execution_count": null,
   "metadata": {},
   "outputs": [],
   "source": [
    "import numpy as np\n",
    " \n",
    "# creating an array using arrange \n",
    "# method\n",
    "a = np.arange(12)\n",
    " \n",
    "# shape array with 3 rows and \n",
    "# 4 columns\n",
    "a = a.reshape(3,4)\n",
    " \n",
    "print('Original array is:')\n",
    "print(a)\n",
    "print()\n",
    " \n",
    "print('Modified array is:')\n",
    " \n",
    "# iterating  an array\n",
    "for x in np.nditer(a):\n",
    "    print(x)"
   ]
  },
  {
   "cell_type": "markdown",
   "metadata": {},
   "source": [
    "# Controlling Iteration Order:"
   ]
  },
  {
   "cell_type": "markdown",
   "metadata": {},
   "source": [
    "# C order"
   ]
  },
  {
   "cell_type": "code",
   "execution_count": null,
   "metadata": {},
   "outputs": [],
   "source": [
    "import numpy as np \n",
    " \n",
    "# creating an array using arrange \n",
    "# method\n",
    "a = np.arange(12) \n",
    " \n",
    "# shape array with 3 rows and \n",
    "# 4 columns \n",
    "a = a.reshape(3,4) \n",
    " \n",
    "print('Original array is:') \n",
    "print(a)\n",
    "print()  \n",
    " \n",
    "print('Modified array in C-style order:')\n",
    " \n",
    "# iterating an array in a given\n",
    "# order  \n",
    "for x in np.nditer(a, order = 'C'): \n",
    "    print(x)"
   ]
  },
  {
   "cell_type": "markdown",
   "metadata": {},
   "source": [
    "# F order"
   ]
  },
  {
   "cell_type": "code",
   "execution_count": null,
   "metadata": {},
   "outputs": [],
   "source": [
    "import numpy as np \n",
    " \n",
    "# creating an array using arrange \n",
    "# method\n",
    "a = np.arange(0,60,5) \n",
    " \n",
    "# shape array with 3 rows and \n",
    "# 4 columns \n",
    "a = a.reshape(3,4) \n",
    " \n",
    "print('Original array is:') \n",
    "print(a)\n",
    "print()  \n",
    " \n",
    "print('Modified array in F-style order:')\n",
    " \n",
    "# iterating an array in a given\n",
    "# order   \n",
    "for x in np.nditer(a, order = 'F'): \n",
    "    print(x)"
   ]
  },
  {
   "cell_type": "markdown",
   "metadata": {},
   "source": [
    "# Modifying array values"
   ]
  },
  {
   "cell_type": "code",
   "execution_count": null,
   "metadata": {},
   "outputs": [],
   "source": [
    "import numpy as np\n",
    " \n",
    "# creating an array using arrange \n",
    "# method\n",
    "a = np.arange(12)\n",
    " \n",
    "# shape array with 3 rows and \n",
    "# 4 columns \n",
    "a = a.reshape(3,4)\n",
    "print('Original array is:')\n",
    "print(a)\n",
    "print()\n",
    " \n",
    "# modifying array values\n",
    "for x in np.nditer(a, op_flags = ['readwrite']):\n",
    "    x[...] = 5*x\n",
    "print('Modified array is:')\n",
    "print(a)\n"
   ]
  },
  {
   "cell_type": "markdown",
   "metadata": {},
   "source": [
    "# Broadcasting Iteratioins"
   ]
  },
  {
   "cell_type": "code",
   "execution_count": null,
   "metadata": {},
   "outputs": [],
   "source": [
    "import numpy as np\n",
    " \n",
    "# creating an array using arrange \n",
    "# method \n",
    "a = np.arange(12)\n",
    " \n",
    " # shape array with 3 rows and \n",
    "# 4 columns \n",
    "a = a.reshape(3,4) \n",
    " \n",
    "print('First array is:') \n",
    "print(a)\n",
    "print()  \n",
    " \n",
    "# Creating second array using \n",
    "# array method\n",
    "print('Second array is:') \n",
    "b = np.array([5, 6, 7, 8], dtype = int) \n",
    "print(b)  \n",
    "print() \n",
    " \n",
    "for x,y in np.nditer([a,b]): \n",
    "    print(\"%d:%d\" % (x,y))"
   ]
  },
  {
   "cell_type": "markdown",
   "metadata": {},
   "source": [
    "# Take User Input & Store in Numpy 1 D array : "
   ]
  },
  {
   "cell_type": "markdown",
   "metadata": {},
   "source": [
    "# Method 1 : build a normal list and convert it to a numpy array afterwards"
   ]
  },
  {
   "cell_type": "code",
   "execution_count": null,
   "metadata": {},
   "outputs": [],
   "source": [
    "import numpy\n",
    "\n",
    "my_array = []\n",
    "a = int(input(\"Size of array:\"))\n",
    "for i in range(a):\n",
    "    my_array.append(float(input(\"Element:\")))\n",
    "my_array = numpy.array(my_array)\n",
    "print(numpy.floor(my_array))"
   ]
  },
  {
   "cell_type": "markdown",
   "metadata": {},
   "source": [
    "# Method 2 : initialise a list of length 'a' and then can replace its element with input elements"
   ]
  },
  {
   "cell_type": "code",
   "execution_count": null,
   "metadata": {},
   "outputs": [],
   "source": [
    "import numpy\n",
    "a=int(input(\"Size of array:\"))\n",
    "\n",
    "my_array = numpy.empty(a)\n",
    "for i in range(len(my_array)):\n",
    "    x=float(input(\"Element:\"))\n",
    "    my_array[i]=x\n",
    "print(numpy.floor(my_array))"
   ]
  },
  {
   "cell_type": "markdown",
   "metadata": {},
   "source": [
    "# NumPy Matrix Multiplication with np.matmul("
   ]
  },
  {
   "cell_type": "code",
   "execution_count": 3,
   "metadata": {},
   "outputs": [
    {
     "data": {
      "text/plain": [
       "array([[19, 22],\n",
       "       [43, 50]])"
      ]
     },
     "execution_count": 3,
     "metadata": {},
     "output_type": "execute_result"
    }
   ],
   "source": [
    "import numpy as np\n",
    "h = [[1,2],[3,4]] \n",
    "i = [[5,6],[7,8]] \n",
    "\n",
    "np.matmul(h, i)"
   ]
  },
  {
   "cell_type": "markdown",
   "metadata": {},
   "source": [
    "# Finding Determinant"
   ]
  },
  {
   "cell_type": "code",
   "execution_count": 7,
   "metadata": {},
   "outputs": [
    {
     "name": "stdout",
     "output_type": "stream",
     "text": [
      "0.9999999999999998\n",
      "4.999999999999994\n"
     ]
    }
   ],
   "source": [
    "import numpy as np\n",
    "h = [[1,1],[3,4]] \n",
    "i = [[5,5],[7,8]] \n",
    "print(np.linalg.det(h))\n",
    "print(np.linalg.det(i))"
   ]
  },
  {
   "cell_type": "markdown",
   "metadata": {},
   "source": [
    "# Taking input from user & performing Numpy Matrix Multipicatioin using Dot  Operator"
   ]
  },
  {
   "cell_type": "code",
   "execution_count": 8,
   "metadata": {},
   "outputs": [
    {
     "name": "stdout",
     "output_type": "stream",
     "text": [
      "Enter rows in a : 2\n",
      "Enter columns in a : 3\n",
      "Enter rows in b : 3\n",
      "Enter columns in b : 2\n",
      "Enter matrix a : \n",
      "Enter element a[0][0] : 2\n",
      "Enter element a[0][1] : 3\n",
      "Enter element a[0][2] : 4\n",
      "Enter element a[1][0] : 1\n",
      "Enter element a[1][1] : 2\n",
      "Enter element a[1][2] : 3\n",
      "Enter matrix b : \n",
      "Enter element b[0][0] : 4\n",
      "Enter element b[0][1] : 5\n",
      "Enter element b[1][0] : 1\n",
      "Enter element b[1][1] : 6\n",
      "Enter element b[2][0] : 9\n",
      "Enter element b[2][1] : 7\n",
      "Matrix a :\n",
      "2 3 4 \n",
      "1 2 3 \n",
      "\n",
      "Matrix b : \n",
      "4 5 \n",
      "1 6 \n",
      "9 7 \n",
      "\n",
      "Result of a*b : \n",
      "47 56 \n",
      "33 38 \n"
     ]
    }
   ],
   "source": [
    "# Note: We can either write\n",
    "# np.dot(a,b)\n",
    "# a.dot(b)\n",
    "\n",
    "\n",
    "# Import numpy \n",
    "import numpy as np\n",
    " \n",
    "def printMatrix(a):\n",
    "    \n",
    "    # Printing matrix\n",
    "    for i in range(0,len(a)):\n",
    "        for j in range(0,len(a[0])):\n",
    "            print(a[i][j],end = \" \")\n",
    "        print()\n",
    "    \n",
    "    \n",
    " \n",
    "def main():\n",
    "    \n",
    "    # Taking rows and columns of a \n",
    "    m = int(input(\"Enter rows in a : \"))\n",
    "    n = int(input(\"Enter columns in a : \"))\n",
    "    \n",
    "    # Taking rows and columns of b\n",
    "    p = int(input(\"Enter rows in b : \"))\n",
    "    q = int(input(\"Enter columns in b : \"))\n",
    "    \n",
    "    # Checking necessary condition for matrix multiplication\n",
    "    if n!= p:\n",
    "        print(\"Number of columns in b must be equal to rows in b\")\n",
    "        exit()\n",
    "    \n",
    "    # Initializing a and b list\n",
    "    a = [ [0 for i in range(0,n)] for j in range(0,m) ]\n",
    "    b = [ [0 for i in range(0,q)] for j in range(0,p) ]\n",
    "    \n",
    "    # Taking input list a\n",
    "    print(\"Enter matrix a : \")\n",
    "    for i in range(0,m):\n",
    "        for j in range(0,n):\n",
    "            a[i][j] = int(input(\"Enter element a[\" + str(i) + \"][\" + str(j) + \"] : \"))\n",
    "    \n",
    "    # Taking input list b\n",
    "    print(\"Enter matrix b : \")\n",
    "    for i in range(0,p):\n",
    "        for j in range(0,q):\n",
    "            b[i][j] = int(input(\"Enter element b[\" + str(i) + \"][\" + str(j) + \"] : \"))\n",
    "    \n",
    "    \n",
    "    # Converting python list in numpy array\n",
    "    a = np.array(a)\n",
    "    b = np.array(b)\n",
    "    \n",
    "    print(\"Matrix a :\")\n",
    "    printMatrix(a)\n",
    "    print()\n",
    "    \n",
    "    print(\"Matrix b : \")\n",
    "    printMatrix(b)\n",
    "    print()\n",
    "    \n",
    "    # Using dot operator to multiply\n",
    "    c = a.dot(b)\n",
    "    \n",
    "    # Printing Result\n",
    "    print(\"Result of a*b : \")\n",
    "    printMatrix(c)\n",
    " \n",
    " \n",
    "main()"
   ]
  },
  {
   "cell_type": "code",
   "execution_count": 9,
   "metadata": {},
   "outputs": [
    {
     "name": "stdout",
     "output_type": "stream",
     "text": [
      "Enter rows in a : 2\n",
      "Enter columns in a : 3\n",
      "Enter rows in b : 3\n",
      "Enter columns in b : 2\n",
      "Enter matrix a : \n",
      "Enter element a[0][0] : 2\n",
      "Enter element a[0][1] : 3\n",
      "Enter element a[0][2] : 4\n",
      "Enter element a[1][0] : 1\n",
      "Enter element a[1][1] : 2\n",
      "Enter element a[1][2] : 3\n",
      "Enter matrix b : \n",
      "Enter element b[0][0] : 4\n",
      "Enter element b[0][1] : 5\n",
      "Enter element b[1][0] : 1\n",
      "Enter element b[1][1] : 6\n",
      "Enter element b[2][0] : 9\n",
      "Enter element b[2][1] : 7\n",
      "Matrix a :\n",
      "2 3 4 \n",
      "1 2 3 \n",
      "\n",
      "Matrix b : \n",
      "4 5 \n",
      "1 6 \n",
      "9 7 \n",
      "\n",
      "Result of a*b : \n",
      "[[47 56]] \n",
      "[[33 38]] \n"
     ]
    }
   ],
   "source": [
    "\n",
    "# Import numpy \n",
    "import numpy as np\n",
    " \n",
    "def printMatrix(a):\n",
    "    \n",
    "    # Printing matrix\n",
    "    for i in range(0,len(a)):\n",
    "        for j in range(0,len(a[0])):\n",
    "            print(a[i][j],end = \" \")\n",
    "        print()\n",
    "    \n",
    "    \n",
    " \n",
    "def main():\n",
    "    \n",
    "    # Taking rows and columns of a \n",
    "    m = int(input(\"Enter rows in a : \"))\n",
    "    n = int(input(\"Enter columns in a : \"))\n",
    "    \n",
    "    # Taking rows and columns of b\n",
    "    p = int(input(\"Enter rows in b : \"))\n",
    "    q = int(input(\"Enter columns in b : \"))\n",
    "    \n",
    "    # Checking necessary condition for matrix multiplication\n",
    "    if n!= p:\n",
    "        print(\"Number of columns in b must be equal to rows in b\")\n",
    "        exit()\n",
    "    \n",
    "    # Initializing a and b list\n",
    "    a = [ [0 for i in range(0,n)] for j in range(0,m) ]\n",
    "    b = [ [0 for i in range(0,q)] for j in range(0,p) ]\n",
    "    \n",
    "    # Taking input list a\n",
    "    print(\"Enter matrix a : \")\n",
    "    for i in range(0,m):\n",
    "        for j in range(0,n):\n",
    "            a[i][j] = int(input(\"Enter element a[\" + str(i) + \"][\" + str(j) + \"] : \"))\n",
    "    \n",
    "    # Taking input list b\n",
    "    print(\"Enter matrix b : \")\n",
    "    for i in range(0,p):\n",
    "        for j in range(0,q):\n",
    "            b[i][j] = int(input(\"Enter element b[\" + str(i) + \"][\" + str(j) + \"] : \"))\n",
    "    \n",
    "    \n",
    "    # Converting python list in numpy array\n",
    "    a = np.array(a)\n",
    "    b = np.array(b)\n",
    "    \n",
    "    print(\"Matrix a :\")\n",
    "    printMatrix(a)\n",
    "    print()\n",
    "    \n",
    "    print(\"Matrix b : \")\n",
    "    printMatrix(b)\n",
    "    print()\n",
    "    \n",
    "    # Using * operator to multiply\n",
    "    c = np.matrix(a)*np.matrix(b)\n",
    "    \n",
    "    # Printing Result\n",
    "    print(\"Result of a*b : \")\n",
    "    printMatrix(c)\n",
    " \n",
    " \n",
    "main()"
   ]
  },
  {
   "cell_type": "markdown",
   "metadata": {},
   "source": [
    "# NumPy Statistical Functions with Example"
   ]
  },
  {
   "cell_type": "markdown",
   "metadata": {},
   "source": [
    "# Consider the following Array"
   ]
  },
  {
   "cell_type": "code",
   "execution_count": 10,
   "metadata": {},
   "outputs": [
    {
     "name": "stdout",
     "output_type": "stream",
     "text": [
      "[5.84590697 5.31132962 5.04707243 4.86221171 4.41626211 4.39063585\n",
      " 4.92517839 4.78450755 5.7410437  5.42243308]\n"
     ]
    }
   ],
   "source": [
    "import numpy as np\n",
    "normal_array = np.random.normal(5, 0.5, 10)\n",
    "print(normal_array)\t"
   ]
  },
  {
   "cell_type": "markdown",
   "metadata": {},
   "source": [
    "# Example:Statistical function"
   ]
  },
  {
   "cell_type": "code",
   "execution_count": 11,
   "metadata": {},
   "outputs": [
    {
     "name": "stdout",
     "output_type": "stream",
     "text": [
      "4.3906358493121225\n",
      "5.845906973507198\n",
      "5.074658141203084\n",
      "4.986125410037205\n",
      "0.4764087664496949\n"
     ]
    }
   ],
   "source": [
    "### Min \n",
    "print(np.min(normal_array))\n",
    "\n",
    "### Max \n",
    "print(np.max(normal_array))\n",
    "\n",
    "### Mean \n",
    "print(np.mean(normal_array))\n",
    "\n",
    "### Median\n",
    "print(np.median(normal_array))\n",
    "\n",
    "### Sd\n",
    "print(np.std(normal_array))"
   ]
  },
  {
   "cell_type": "code",
   "execution_count": null,
   "metadata": {},
   "outputs": [],
   "source": []
  }
 ],
 "metadata": {
  "kernelspec": {
   "display_name": "Python 3",
   "language": "python",
   "name": "python3"
  },
  "language_info": {
   "codemirror_mode": {
    "name": "ipython",
    "version": 3
   },
   "file_extension": ".py",
   "mimetype": "text/x-python",
   "name": "python",
   "nbconvert_exporter": "python",
   "pygments_lexer": "ipython3",
   "version": "3.8.1"
  }
 },
 "nbformat": 4,
 "nbformat_minor": 4
}
